{
 "cells": [
  {
   "cell_type": "code",
   "execution_count": null,
   "id": "db7ec393",
   "metadata": {},
   "outputs": [],
   "source": [
    "from getpass import getpass\n",
    "api_key = getpass(\"Paste OPENAI_API_KEY: \")"
   ]
  },
  {
   "cell_type": "code",
   "execution_count": 24,
   "id": "86a8db3c",
   "metadata": {},
   "outputs": [],
   "source": [
    "# Function to get response from OpenAI API\n",
    "def get_response(prompt):\n",
    "    resp = client.responses.create(\n",
    "        model=\"gpt-4o-mini\",\n",
    "        input=prompt\n",
    "    )\n",
    "    return resp.output_text"
   ]
  },
  {
   "cell_type": "code",
   "execution_count": 25,
   "id": "8bffc278",
   "metadata": {},
   "outputs": [
    {
     "name": "stdout",
     "output_type": "stream",
     "text": [
      "Did you know that honey never spoils? Archaeologists have found pots of honey in ancient Egyptian tombs that are over 3,000 years old and still perfectly edible! This is due to honey's low moisture content and acidic pH, which create an inhospitable environment for bacteria.\n"
     ]
    }
   ],
   "source": [
    "print(get_response(\"Give me a random fun fact.\"))"
   ]
  },
  {
   "cell_type": "code",
   "execution_count": null,
   "id": "bb875168",
   "metadata": {},
   "outputs": [
    {
     "data": {
      "text/plain": [
       "2"
      ]
     },
     "execution_count": 3,
     "metadata": {},
     "output_type": "execute_result"
    }
   ],
   "source": []
  },
  {
   "cell_type": "code",
   "execution_count": null,
   "id": "e4ad55e0",
   "metadata": {},
   "outputs": [],
   "source": []
  }
 ],
 "metadata": {
  "kernelspec": {
   "display_name": "base",
   "language": "python",
   "name": "python3"
  },
  "language_info": {
   "codemirror_mode": {
    "name": "ipython",
    "version": 3
   },
   "file_extension": ".py",
   "mimetype": "text/x-python",
   "name": "python",
   "nbconvert_exporter": "python",
   "pygments_lexer": "ipython3",
   "version": "3.9.15"
  }
 },
 "nbformat": 4,
 "nbformat_minor": 5
}
